{
 "cells": [
  {
   "cell_type": "code",
   "execution_count": 1,
   "id": "3cb2b130",
   "metadata": {},
   "outputs": [
    {
     "name": "stderr",
     "output_type": "stream",
     "text": [
      "[nltk_data] Downloading package stopwords to\n",
      "[nltk_data]     /Users/vritansh/nltk_data...\n",
      "[nltk_data]   Package stopwords is already up-to-date!\n",
      "[nltk_data] Downloading package punkt to /Users/vritansh/nltk_data...\n",
      "[nltk_data]   Package punkt is already up-to-date!\n"
     ]
    }
   ],
   "source": [
    "import nltk\n",
    "# nltk.download(\"movie_reviews\")\n",
    "import numpy as np\n",
    "from nltk.corpus import movie_reviews \n",
    "import pandas as pd\n",
    "from nltk.corpus import twitter_samples \n",
    "from sklearn.model_selection import train_test_split\n",
    "from nltk.corpus import stopwords\n",
    "nltk.download('stopwords')\n",
    "nltk.download('punkt')\n",
    "stop = stopwords.words('english')\n",
    "import string\n",
    "import re\n",
    "from nltk.stem import PorterStemmer\n",
    "from nltk.tokenize import word_tokenize\n",
    "from sklearn.feature_extraction.text import CountVectorizer\n",
    "from sklearn.linear_model import LogisticRegression\n",
    "from sklearn.feature_extraction.text import TfidfVectorizer\n",
    "import matplotlib.pyplot as plt\n",
    "\n",
    "from sklearn.linear_model import LogisticRegressionCV"
   ]
  },
  {
   "cell_type": "code",
   "execution_count": 2,
   "id": "9d8868ca",
   "metadata": {},
   "outputs": [],
   "source": [
    "df = pd.read_csv(\"scraped_tweets.csv\", )"
   ]
  },
  {
   "cell_type": "code",
   "execution_count": 30,
   "id": "8b56fb04",
   "metadata": {},
   "outputs": [],
   "source": [
    "df.describe()\n"
   ]
  },
  {
   "cell_type": "code",
   "execution_count": 4,
   "id": "28c1b693",
   "metadata": {},
   "outputs": [
    {
     "data": {
      "text/plain": [
       "Index(['Unnamed: 0', 'username', 'description', 'location', 'following',\n",
       "       'followers', 'totaltweets', 'retweetcount', 'text', 'hashtags'],\n",
       "      dtype='object')"
      ]
     },
     "execution_count": 4,
     "metadata": {},
     "output_type": "execute_result"
    }
   ],
   "source": [
    "df.columns\n"
   ]
  },
  {
   "cell_type": "code",
   "execution_count": 5,
   "id": "f9cf85fa",
   "metadata": {},
   "outputs": [
    {
     "data": {
      "text/html": [
       "<div>\n",
       "<style scoped>\n",
       "    .dataframe tbody tr th:only-of-type {\n",
       "        vertical-align: middle;\n",
       "    }\n",
       "\n",
       "    .dataframe tbody tr th {\n",
       "        vertical-align: top;\n",
       "    }\n",
       "\n",
       "    .dataframe thead th {\n",
       "        text-align: right;\n",
       "    }\n",
       "</style>\n",
       "<table border=\"1\" class=\"dataframe\">\n",
       "  <thead>\n",
       "    <tr style=\"text-align: right;\">\n",
       "      <th></th>\n",
       "      <th>username</th>\n",
       "      <th>description</th>\n",
       "      <th>location</th>\n",
       "      <th>following</th>\n",
       "      <th>followers</th>\n",
       "      <th>totaltweets</th>\n",
       "      <th>retweetcount</th>\n",
       "      <th>text</th>\n",
       "      <th>hashtags</th>\n",
       "    </tr>\n",
       "  </thead>\n",
       "  <tbody>\n",
       "    <tr>\n",
       "      <th>0</th>\n",
       "      <td>LeGuideDuSecOps</td>\n",
       "      <td>Blog 🇫🇷 publiant des articles en #Cybersecurit...</td>\n",
       "      <td>Clouds</td>\n",
       "      <td>59</td>\n",
       "      <td>564</td>\n",
       "      <td>1672</td>\n",
       "      <td>0</td>\n",
       "      <td>ChatGPT https://t.co/aEUQKw2Nz3</td>\n",
       "      <td>[]</td>\n",
       "    </tr>\n",
       "    <tr>\n",
       "      <th>1</th>\n",
       "      <td>mxhmcmahon</td>\n",
       "      <td>Postdoctoral Research Fellow @EmoryPediatrics ...</td>\n",
       "      <td>Atlanta, GA</td>\n",
       "      <td>226</td>\n",
       "      <td>92</td>\n",
       "      <td>44</td>\n",
       "      <td>0</td>\n",
       "      <td>Everyone’s talking about ChatGPT yet I’m still...</td>\n",
       "      <td>['ai', 'research']</td>\n",
       "    </tr>\n",
       "    <tr>\n",
       "      <th>2</th>\n",
       "      <td>joe39539881</td>\n",
       "      <td>Identifying, training, &amp; equiping the next gen...</td>\n",
       "      <td>Rialto USD, So Cal, USA</td>\n",
       "      <td>52</td>\n",
       "      <td>4</td>\n",
       "      <td>235</td>\n",
       "      <td>20</td>\n",
       "      <td>I challenged ChatGPT  - can it replace Hackers...</td>\n",
       "      <td>[]</td>\n",
       "    </tr>\n",
       "    <tr>\n",
       "      <th>3</th>\n",
       "      <td>xHardcQre</td>\n",
       "      <td>Technnology enthusiast. Developer.</td>\n",
       "      <td>Thessaloniki, Greece</td>\n",
       "      <td>38</td>\n",
       "      <td>45</td>\n",
       "      <td>24</td>\n",
       "      <td>0</td>\n",
       "      <td>AI you are drunk, go home. #ChatGPT #AI https:...</td>\n",
       "      <td>['ChatGPT', 'AI']</td>\n",
       "    </tr>\n",
       "    <tr>\n",
       "      <th>4</th>\n",
       "      <td>duke_unreal</td>\n",
       "      <td>NaN</td>\n",
       "      <td>NaN</td>\n",
       "      <td>5003</td>\n",
       "      <td>1653</td>\n",
       "      <td>283938</td>\n",
       "      <td>20</td>\n",
       "      <td>AI is good now.\\n\\n\"This Oddly Polite Chatbot ...</td>\n",
       "      <td>[]</td>\n",
       "    </tr>\n",
       "    <tr>\n",
       "      <th>...</th>\n",
       "      <td>...</td>\n",
       "      <td>...</td>\n",
       "      <td>...</td>\n",
       "      <td>...</td>\n",
       "      <td>...</td>\n",
       "      <td>...</td>\n",
       "      <td>...</td>\n",
       "      <td>...</td>\n",
       "      <td>...</td>\n",
       "    </tr>\n",
       "    <tr>\n",
       "      <th>95</th>\n",
       "      <td>FrankSchuil</td>\n",
       "      <td>CEO &amp; co-founder crypto exchange @SafelloAB (O...</td>\n",
       "      <td>Sweden</td>\n",
       "      <td>1097</td>\n",
       "      <td>4539</td>\n",
       "      <td>4937</td>\n",
       "      <td>0</td>\n",
       "      <td>Reads like ChatGPT makes both for a great and ...</td>\n",
       "      <td>[]</td>\n",
       "    </tr>\n",
       "    <tr>\n",
       "      <th>96</th>\n",
       "      <td>vishn0o</td>\n",
       "      <td>☭\\n\\n| Visca Barca |</td>\n",
       "      <td>Kerala</td>\n",
       "      <td>780</td>\n",
       "      <td>331</td>\n",
       "      <td>5682</td>\n",
       "      <td>2</td>\n",
       "      <td>@cuihua @OpenAI #ChatGPT prompt: \\n\\nWrite an ...</td>\n",
       "      <td>['ChatGPT']</td>\n",
       "    </tr>\n",
       "    <tr>\n",
       "      <th>97</th>\n",
       "      <td>_0xzero</td>\n",
       "      <td>Jim Cramer hater | ex Niftey junky</td>\n",
       "      <td>United Kingdom</td>\n",
       "      <td>366</td>\n",
       "      <td>289</td>\n",
       "      <td>11225</td>\n",
       "      <td>0</td>\n",
       "      <td>It’s me and chatgpt vs the world</td>\n",
       "      <td>[]</td>\n",
       "    </tr>\n",
       "    <tr>\n",
       "      <th>98</th>\n",
       "      <td>EdFromYorkshire</td>\n",
       "      <td>NaN</td>\n",
       "      <td>North Yorkshire</td>\n",
       "      <td>134</td>\n",
       "      <td>94</td>\n",
       "      <td>804</td>\n",
       "      <td>97</td>\n",
       "      <td>Just one way to profit off chatgpt\\n\\nThe worl...</td>\n",
       "      <td>[]</td>\n",
       "    </tr>\n",
       "    <tr>\n",
       "      <th>99</th>\n",
       "      <td>PhineasGages</td>\n",
       "      <td>No.</td>\n",
       "      <td>NaN</td>\n",
       "      <td>65</td>\n",
       "      <td>10</td>\n",
       "      <td>1499</td>\n",
       "      <td>0</td>\n",
       "      <td>@carlyjlivingsto ChatGPT + OF + deepfakes = fa...</td>\n",
       "      <td>[]</td>\n",
       "    </tr>\n",
       "  </tbody>\n",
       "</table>\n",
       "<p>100 rows × 9 columns</p>\n",
       "</div>"
      ],
      "text/plain": [
       "           username                                        description  \\\n",
       "0   LeGuideDuSecOps  Blog 🇫🇷 publiant des articles en #Cybersecurit...   \n",
       "1        mxhmcmahon  Postdoctoral Research Fellow @EmoryPediatrics ...   \n",
       "2       joe39539881  Identifying, training, & equiping the next gen...   \n",
       "3         xHardcQre                 Technnology enthusiast. Developer.   \n",
       "4       duke_unreal                                                NaN   \n",
       "..              ...                                                ...   \n",
       "95      FrankSchuil  CEO & co-founder crypto exchange @SafelloAB (O...   \n",
       "96          vishn0o                               ☭\\n\\n| Visca Barca |   \n",
       "97          _0xzero                 Jim Cramer hater | ex Niftey junky   \n",
       "98  EdFromYorkshire                                                NaN   \n",
       "99     PhineasGages                                                No.   \n",
       "\n",
       "                   location  following  followers  totaltweets  retweetcount  \\\n",
       "0                    Clouds         59        564         1672             0   \n",
       "1               Atlanta, GA        226         92           44             0   \n",
       "2   Rialto USD, So Cal, USA         52          4          235            20   \n",
       "3      Thessaloniki, Greece         38         45           24             0   \n",
       "4                       NaN       5003       1653       283938            20   \n",
       "..                      ...        ...        ...          ...           ...   \n",
       "95                   Sweden       1097       4539         4937             0   \n",
       "96                   Kerala        780        331         5682             2   \n",
       "97           United Kingdom        366        289        11225             0   \n",
       "98          North Yorkshire        134         94          804            97   \n",
       "99                      NaN         65         10         1499             0   \n",
       "\n",
       "                                                 text            hashtags  \n",
       "0                     ChatGPT https://t.co/aEUQKw2Nz3                  []  \n",
       "1   Everyone’s talking about ChatGPT yet I’m still...  ['ai', 'research']  \n",
       "2   I challenged ChatGPT  - can it replace Hackers...                  []  \n",
       "3   AI you are drunk, go home. #ChatGPT #AI https:...   ['ChatGPT', 'AI']  \n",
       "4   AI is good now.\\n\\n\"This Oddly Polite Chatbot ...                  []  \n",
       "..                                                ...                 ...  \n",
       "95  Reads like ChatGPT makes both for a great and ...                  []  \n",
       "96  @cuihua @OpenAI #ChatGPT prompt: \\n\\nWrite an ...         ['ChatGPT']  \n",
       "97                   It’s me and chatgpt vs the world                  []  \n",
       "98  Just one way to profit off chatgpt\\n\\nThe worl...                  []  \n",
       "99  @carlyjlivingsto ChatGPT + OF + deepfakes = fa...                  []  \n",
       "\n",
       "[100 rows x 9 columns]"
      ]
     },
     "execution_count": 5,
     "metadata": {},
     "output_type": "execute_result"
    }
   ],
   "source": []
  },
  {
   "cell_type": "code",
   "execution_count": 6,
   "id": "1dc77e2a",
   "metadata": {},
   "outputs": [
    {
     "data": {
      "text/plain": [
       "Unnamed: 0       0\n",
       "username         0\n",
       "description     14\n",
       "location        31\n",
       "following        0\n",
       "followers        0\n",
       "totaltweets      0\n",
       "retweetcount     0\n",
       "text             0\n",
       "hashtags         0\n",
       "dtype: int64"
      ]
     },
     "execution_count": 6,
     "metadata": {},
     "output_type": "execute_result"
    }
   ],
   "source": [
    "df.isna().sum()"
   ]
  },
  {
   "cell_type": "code",
   "execution_count": 7,
   "id": "36e26172",
   "metadata": {},
   "outputs": [
    {
     "data": {
      "text/plain": [
       "Unnamed: 0       0\n",
       "username         0\n",
       "description     14\n",
       "location        31\n",
       "following        0\n",
       "followers        0\n",
       "totaltweets      0\n",
       "retweetcount     0\n",
       "text             0\n",
       "hashtags         0\n",
       "dtype: int64"
      ]
     },
     "execution_count": 7,
     "metadata": {},
     "output_type": "execute_result"
    }
   ],
   "source": [
    "df.isnull().sum()"
   ]
  },
  {
   "cell_type": "code",
   "execution_count": 24,
   "id": "cdb0463b",
   "metadata": {},
   "outputs": [
    {
     "data": {
      "text/html": [
       "<div>\n",
       "<style scoped>\n",
       "    .dataframe tbody tr th:only-of-type {\n",
       "        vertical-align: middle;\n",
       "    }\n",
       "\n",
       "    .dataframe tbody tr th {\n",
       "        vertical-align: top;\n",
       "    }\n",
       "\n",
       "    .dataframe thead th {\n",
       "        text-align: right;\n",
       "    }\n",
       "</style>\n",
       "<table border=\"1\" class=\"dataframe\">\n",
       "  <thead>\n",
       "    <tr style=\"text-align: right;\">\n",
       "      <th></th>\n",
       "      <th>Unnamed: 0</th>\n",
       "      <th>username</th>\n",
       "      <th>description</th>\n",
       "      <th>location</th>\n",
       "      <th>following</th>\n",
       "      <th>followers</th>\n",
       "      <th>totaltweets</th>\n",
       "      <th>retweetcount</th>\n",
       "      <th>text</th>\n",
       "      <th>hashtags</th>\n",
       "    </tr>\n",
       "  </thead>\n",
       "  <tbody>\n",
       "    <tr>\n",
       "      <th>0</th>\n",
       "      <td>0</td>\n",
       "      <td>LeGuideDuSecOps</td>\n",
       "      <td>Blog 🇫🇷 publiant des articles en #Cybersecurit...</td>\n",
       "      <td>Clouds</td>\n",
       "      <td>59</td>\n",
       "      <td>564</td>\n",
       "      <td>1672</td>\n",
       "      <td>0</td>\n",
       "      <td>ChatGPT https://t.co/aEUQKw2Nz3</td>\n",
       "      <td>[]</td>\n",
       "    </tr>\n",
       "    <tr>\n",
       "      <th>1</th>\n",
       "      <td>1</td>\n",
       "      <td>mxhmcmahon</td>\n",
       "      <td>Postdoctoral Research Fellow @EmoryPediatrics ...</td>\n",
       "      <td>Atlanta, GA</td>\n",
       "      <td>226</td>\n",
       "      <td>92</td>\n",
       "      <td>44</td>\n",
       "      <td>0</td>\n",
       "      <td>Everyone’s talking about ChatGPT yet I’m still...</td>\n",
       "      <td>['ai', 'research']</td>\n",
       "    </tr>\n",
       "    <tr>\n",
       "      <th>2</th>\n",
       "      <td>2</td>\n",
       "      <td>joe39539881</td>\n",
       "      <td>Identifying, training, &amp; equiping the next gen...</td>\n",
       "      <td>Rialto USD, So Cal, USA</td>\n",
       "      <td>52</td>\n",
       "      <td>4</td>\n",
       "      <td>235</td>\n",
       "      <td>20</td>\n",
       "      <td>I challenged ChatGPT  - can it replace Hackers...</td>\n",
       "      <td>[]</td>\n",
       "    </tr>\n",
       "    <tr>\n",
       "      <th>3</th>\n",
       "      <td>3</td>\n",
       "      <td>xHardcQre</td>\n",
       "      <td>Technnology enthusiast. Developer.</td>\n",
       "      <td>Thessaloniki, Greece</td>\n",
       "      <td>38</td>\n",
       "      <td>45</td>\n",
       "      <td>24</td>\n",
       "      <td>0</td>\n",
       "      <td>AI you are drunk, go home. #ChatGPT #AI https:...</td>\n",
       "      <td>['ChatGPT', 'AI']</td>\n",
       "    </tr>\n",
       "    <tr>\n",
       "      <th>4</th>\n",
       "      <td>4</td>\n",
       "      <td>duke_unreal</td>\n",
       "      <td>NaN</td>\n",
       "      <td>NaN</td>\n",
       "      <td>5003</td>\n",
       "      <td>1653</td>\n",
       "      <td>283938</td>\n",
       "      <td>20</td>\n",
       "      <td>AI is good now.\\n\\n\"This Oddly Polite Chatbot ...</td>\n",
       "      <td>[]</td>\n",
       "    </tr>\n",
       "    <tr>\n",
       "      <th>...</th>\n",
       "      <td>...</td>\n",
       "      <td>...</td>\n",
       "      <td>...</td>\n",
       "      <td>...</td>\n",
       "      <td>...</td>\n",
       "      <td>...</td>\n",
       "      <td>...</td>\n",
       "      <td>...</td>\n",
       "      <td>...</td>\n",
       "      <td>...</td>\n",
       "    </tr>\n",
       "    <tr>\n",
       "      <th>95</th>\n",
       "      <td>95</td>\n",
       "      <td>FrankSchuil</td>\n",
       "      <td>CEO &amp; co-founder crypto exchange @SafelloAB (O...</td>\n",
       "      <td>Sweden</td>\n",
       "      <td>1097</td>\n",
       "      <td>4539</td>\n",
       "      <td>4937</td>\n",
       "      <td>0</td>\n",
       "      <td>Reads like ChatGPT makes both for a great and ...</td>\n",
       "      <td>[]</td>\n",
       "    </tr>\n",
       "    <tr>\n",
       "      <th>96</th>\n",
       "      <td>96</td>\n",
       "      <td>vishn0o</td>\n",
       "      <td>☭\\n\\n| Visca Barca |</td>\n",
       "      <td>Kerala</td>\n",
       "      <td>780</td>\n",
       "      <td>331</td>\n",
       "      <td>5682</td>\n",
       "      <td>2</td>\n",
       "      <td>@cuihua @OpenAI #ChatGPT prompt: \\n\\nWrite an ...</td>\n",
       "      <td>['ChatGPT']</td>\n",
       "    </tr>\n",
       "    <tr>\n",
       "      <th>97</th>\n",
       "      <td>97</td>\n",
       "      <td>_0xzero</td>\n",
       "      <td>Jim Cramer hater | ex Niftey junky</td>\n",
       "      <td>United Kingdom</td>\n",
       "      <td>366</td>\n",
       "      <td>289</td>\n",
       "      <td>11225</td>\n",
       "      <td>0</td>\n",
       "      <td>It’s me and chatgpt vs the world</td>\n",
       "      <td>[]</td>\n",
       "    </tr>\n",
       "    <tr>\n",
       "      <th>98</th>\n",
       "      <td>98</td>\n",
       "      <td>EdFromYorkshire</td>\n",
       "      <td>NaN</td>\n",
       "      <td>North Yorkshire</td>\n",
       "      <td>134</td>\n",
       "      <td>94</td>\n",
       "      <td>804</td>\n",
       "      <td>97</td>\n",
       "      <td>Just one way to profit off chatgpt\\n\\nThe worl...</td>\n",
       "      <td>[]</td>\n",
       "    </tr>\n",
       "    <tr>\n",
       "      <th>99</th>\n",
       "      <td>99</td>\n",
       "      <td>PhineasGages</td>\n",
       "      <td>No.</td>\n",
       "      <td>NaN</td>\n",
       "      <td>65</td>\n",
       "      <td>10</td>\n",
       "      <td>1499</td>\n",
       "      <td>0</td>\n",
       "      <td>@carlyjlivingsto ChatGPT + OF + deepfakes = fa...</td>\n",
       "      <td>[]</td>\n",
       "    </tr>\n",
       "  </tbody>\n",
       "</table>\n",
       "<p>100 rows × 10 columns</p>\n",
       "</div>"
      ],
      "text/plain": [
       "    Unnamed: 0         username  \\\n",
       "0            0  LeGuideDuSecOps   \n",
       "1            1       mxhmcmahon   \n",
       "2            2      joe39539881   \n",
       "3            3        xHardcQre   \n",
       "4            4      duke_unreal   \n",
       "..         ...              ...   \n",
       "95          95      FrankSchuil   \n",
       "96          96          vishn0o   \n",
       "97          97          _0xzero   \n",
       "98          98  EdFromYorkshire   \n",
       "99          99     PhineasGages   \n",
       "\n",
       "                                          description  \\\n",
       "0   Blog 🇫🇷 publiant des articles en #Cybersecurit...   \n",
       "1   Postdoctoral Research Fellow @EmoryPediatrics ...   \n",
       "2   Identifying, training, & equiping the next gen...   \n",
       "3                  Technnology enthusiast. Developer.   \n",
       "4                                                 NaN   \n",
       "..                                                ...   \n",
       "95  CEO & co-founder crypto exchange @SafelloAB (O...   \n",
       "96                               ☭\\n\\n| Visca Barca |   \n",
       "97                 Jim Cramer hater | ex Niftey junky   \n",
       "98                                                NaN   \n",
       "99                                                No.   \n",
       "\n",
       "                   location  following  followers  totaltweets  retweetcount  \\\n",
       "0                    Clouds         59        564         1672             0   \n",
       "1               Atlanta, GA        226         92           44             0   \n",
       "2   Rialto USD, So Cal, USA         52          4          235            20   \n",
       "3      Thessaloniki, Greece         38         45           24             0   \n",
       "4                       NaN       5003       1653       283938            20   \n",
       "..                      ...        ...        ...          ...           ...   \n",
       "95                   Sweden       1097       4539         4937             0   \n",
       "96                   Kerala        780        331         5682             2   \n",
       "97           United Kingdom        366        289        11225             0   \n",
       "98          North Yorkshire        134         94          804            97   \n",
       "99                      NaN         65         10         1499             0   \n",
       "\n",
       "                                                 text            hashtags  \n",
       "0                     ChatGPT https://t.co/aEUQKw2Nz3                  []  \n",
       "1   Everyone’s talking about ChatGPT yet I’m still...  ['ai', 'research']  \n",
       "2   I challenged ChatGPT  - can it replace Hackers...                  []  \n",
       "3   AI you are drunk, go home. #ChatGPT #AI https:...   ['ChatGPT', 'AI']  \n",
       "4   AI is good now.\\n\\n\"This Oddly Polite Chatbot ...                  []  \n",
       "..                                                ...                 ...  \n",
       "95  Reads like ChatGPT makes both for a great and ...                  []  \n",
       "96  @cuihua @OpenAI #ChatGPT prompt: \\n\\nWrite an ...         ['ChatGPT']  \n",
       "97                   It’s me and chatgpt vs the world                  []  \n",
       "98  Just one way to profit off chatgpt\\n\\nThe worl...                  []  \n",
       "99  @carlyjlivingsto ChatGPT + OF + deepfakes = fa...                  []  \n",
       "\n",
       "[100 rows x 10 columns]"
      ]
     },
     "execution_count": 24,
     "metadata": {},
     "output_type": "execute_result"
    }
   ],
   "source": [
    "df"
   ]
  },
  {
   "cell_type": "markdown",
   "id": "cda12edf",
   "metadata": {},
   "source": [
    "# Preprocessing"
   ]
  },
  {
   "cell_type": "code",
   "execution_count": 8,
   "id": "689d042c",
   "metadata": {},
   "outputs": [],
   "source": [
    "# code here\n",
    "def remove_all_punctuations(data):\n",
    "    lst = []\n",
    "    for review in data:\n",
    "        tokenized = word_tokenize(review)\n",
    "        considered_word = [word for word in tokenized if not word in all_punctuations]\n",
    "        considered_word = \" \".join(considered_word)\n",
    "        lst.append(considered_word)\n",
    "    return lst"
   ]
  },
  {
   "cell_type": "code",
   "execution_count": 9,
   "id": "b68f6847",
   "metadata": {},
   "outputs": [],
   "source": [
    "all_punctuations =  list(string.punctuation)\n"
   ]
  },
  {
   "cell_type": "code",
   "execution_count": 10,
   "id": "0cad4132",
   "metadata": {},
   "outputs": [],
   "source": [
    "# code here\n",
    "def remove_all_punctuations(data):\n",
    "    lst = []\n",
    "    for review in data:\n",
    "        tokenized = word_tokenize(review)\n",
    "        considered_word = [word for word in tokenized if not word in all_punctuations]\n",
    "        considered_word = \" \".join(considered_word)\n",
    "        lst.append(considered_word)\n",
    "    return lst"
   ]
  },
  {
   "cell_type": "code",
   "execution_count": 13,
   "id": "3451a855",
   "metadata": {},
   "outputs": [],
   "source": [
    "drop_columns = ['username', 'Unnamed: 0']\n",
    "data = df.drop(columns= drop_columns)"
   ]
  },
  {
   "cell_type": "code",
   "execution_count": 14,
   "id": "79df21be",
   "metadata": {},
   "outputs": [
    {
     "data": {
      "text/html": [
       "<div>\n",
       "<style scoped>\n",
       "    .dataframe tbody tr th:only-of-type {\n",
       "        vertical-align: middle;\n",
       "    }\n",
       "\n",
       "    .dataframe tbody tr th {\n",
       "        vertical-align: top;\n",
       "    }\n",
       "\n",
       "    .dataframe thead th {\n",
       "        text-align: right;\n",
       "    }\n",
       "</style>\n",
       "<table border=\"1\" class=\"dataframe\">\n",
       "  <thead>\n",
       "    <tr style=\"text-align: right;\">\n",
       "      <th></th>\n",
       "      <th>description</th>\n",
       "      <th>location</th>\n",
       "      <th>following</th>\n",
       "      <th>followers</th>\n",
       "      <th>totaltweets</th>\n",
       "      <th>retweetcount</th>\n",
       "      <th>text</th>\n",
       "      <th>hashtags</th>\n",
       "    </tr>\n",
       "  </thead>\n",
       "  <tbody>\n",
       "    <tr>\n",
       "      <th>0</th>\n",
       "      <td>Blog 🇫🇷 publiant des articles en #Cybersecurit...</td>\n",
       "      <td>Clouds</td>\n",
       "      <td>59</td>\n",
       "      <td>564</td>\n",
       "      <td>1672</td>\n",
       "      <td>0</td>\n",
       "      <td>ChatGPT https://t.co/aEUQKw2Nz3</td>\n",
       "      <td>[]</td>\n",
       "    </tr>\n",
       "    <tr>\n",
       "      <th>1</th>\n",
       "      <td>Postdoctoral Research Fellow @EmoryPediatrics ...</td>\n",
       "      <td>Atlanta, GA</td>\n",
       "      <td>226</td>\n",
       "      <td>92</td>\n",
       "      <td>44</td>\n",
       "      <td>0</td>\n",
       "      <td>Everyone’s talking about ChatGPT yet I’m still...</td>\n",
       "      <td>['ai', 'research']</td>\n",
       "    </tr>\n",
       "    <tr>\n",
       "      <th>2</th>\n",
       "      <td>Identifying, training, &amp; equiping the next gen...</td>\n",
       "      <td>Rialto USD, So Cal, USA</td>\n",
       "      <td>52</td>\n",
       "      <td>4</td>\n",
       "      <td>235</td>\n",
       "      <td>20</td>\n",
       "      <td>I challenged ChatGPT  - can it replace Hackers...</td>\n",
       "      <td>[]</td>\n",
       "    </tr>\n",
       "    <tr>\n",
       "      <th>3</th>\n",
       "      <td>Technnology enthusiast. Developer.</td>\n",
       "      <td>Thessaloniki, Greece</td>\n",
       "      <td>38</td>\n",
       "      <td>45</td>\n",
       "      <td>24</td>\n",
       "      <td>0</td>\n",
       "      <td>AI you are drunk, go home. #ChatGPT #AI https:...</td>\n",
       "      <td>['ChatGPT', 'AI']</td>\n",
       "    </tr>\n",
       "    <tr>\n",
       "      <th>4</th>\n",
       "      <td>NaN</td>\n",
       "      <td>NaN</td>\n",
       "      <td>5003</td>\n",
       "      <td>1653</td>\n",
       "      <td>283938</td>\n",
       "      <td>20</td>\n",
       "      <td>AI is good now.\\n\\n\"This Oddly Polite Chatbot ...</td>\n",
       "      <td>[]</td>\n",
       "    </tr>\n",
       "  </tbody>\n",
       "</table>\n",
       "</div>"
      ],
      "text/plain": [
       "                                         description                 location  \\\n",
       "0  Blog 🇫🇷 publiant des articles en #Cybersecurit...                   Clouds   \n",
       "1  Postdoctoral Research Fellow @EmoryPediatrics ...              Atlanta, GA   \n",
       "2  Identifying, training, & equiping the next gen...  Rialto USD, So Cal, USA   \n",
       "3                 Technnology enthusiast. Developer.     Thessaloniki, Greece   \n",
       "4                                                NaN                      NaN   \n",
       "\n",
       "   following  followers  totaltweets  retweetcount  \\\n",
       "0         59        564         1672             0   \n",
       "1        226         92           44             0   \n",
       "2         52          4          235            20   \n",
       "3         38         45           24             0   \n",
       "4       5003       1653       283938            20   \n",
       "\n",
       "                                                text            hashtags  \n",
       "0                    ChatGPT https://t.co/aEUQKw2Nz3                  []  \n",
       "1  Everyone’s talking about ChatGPT yet I’m still...  ['ai', 'research']  \n",
       "2  I challenged ChatGPT  - can it replace Hackers...                  []  \n",
       "3  AI you are drunk, go home. #ChatGPT #AI https:...   ['ChatGPT', 'AI']  \n",
       "4  AI is good now.\\n\\n\"This Oddly Polite Chatbot ...                  []  "
      ]
     },
     "execution_count": 14,
     "metadata": {},
     "output_type": "execute_result"
    }
   ],
   "source": [
    "data.head()"
   ]
  },
  {
   "cell_type": "code",
   "execution_count": 23,
   "id": "9838e8e4",
   "metadata": {},
   "outputs": [
    {
     "data": {
      "image/png": "[encoded data removed]",
      "text/plain": [
       "<Figure size 432x288 with 1 Axes>"
      ]
     },
     "metadata": {
      "needs_background": "light"
     },
     "output_type": "display_data"
    }
   ],
   "source": [
    "data.hist(column=['followers'],bins=40)\n",
    "plt.tight_layout()\n",
    "plt.show()"
   ]
  },
  {
   "cell_type": "code",
   "execution_count": 24,
   "id": "1857126d",
   "metadata": {},
   "outputs": [
    {
     "data": {
      "image/png": "[encoded data removed]",
      "text/plain": [
       "<Figure size 432x288 with 1 Axes>"
      ]
     },
     "metadata": {
      "needs_background": "light"
     },
     "output_type": "display_data"
    }
   ],
   "source": [
    "data.hist(column=['following'],bins=40)\n",
    "plt.tight_layout()\n",
    "plt.show()"
   ]
  },
  {
   "cell_type": "code",
   "execution_count": 27,
   "id": "2088ce2d",
   "metadata": {},
   "outputs": [
    {
     "data": {
      "image/png": "[encoded data removed]",
      "text/plain": [
       "<Figure size 432x288 with 1 Axes>"
      ]
     },
     "metadata": {
      "needs_background": "light"
     },
     "output_type": "display_data"
    },
    {
     "data": {
      "image/png": "[encoded data removed]",
      "text/plain": [
       "<Figure size 432x288 with 1 Axes>"
      ]
     },
     "metadata": {
      "needs_background": "light"
     },
     "output_type": "display_data"
    }
   ],
   "source": [
    "data.boxplot(column=['followers'],vert=False)\n",
    "plt.show()\n",
    "data.boxplot(column=['following'],vert=False)\n",
    "plt.show()\n",
    "\n"
   ]
  },
  {
   "cell_type": "code",
   "execution_count": 7,
   "id": "54319a07",
   "metadata": {},
   "outputs": [],
   "source": [
    "grouped = df.groupby(\"username\").size()"
   ]
  },
  {
   "cell_type": "code",
   "execution_count": 12,
   "id": "fc61d855",
   "metadata": {},
   "outputs": [
    {
     "name": "stdout",
     "output_type": "stream",
     "text": [
      "username\n",
      "0xm1cro          1\n",
      "22CREAM28        1\n",
      "ANCarrillo964    1\n",
      "Abhi2jit1        1\n",
      "AllardThuriot    1\n",
      "                ..\n",
      "wolfcominc       1\n",
      "xHardcQre        1\n",
      "xslursx          1\n",
      "yosoyMH          1\n",
      "zehavoc          1\n",
      "Length: 91, dtype: int64\n"
     ]
    }
   ],
   "source": [
    "print(grouped)"
   ]
  },
  {
   "cell_type": "code",
   "execution_count": 15,
   "id": "5864adb2",
   "metadata": {},
   "outputs": [
    {
     "ename": "TypeError",
     "evalue": "'method' object is not iterable",
     "output_type": "error",
     "traceback": [
      "\u001b[0;31m---------------------------------------------------------------------------\u001b[0m",
      "\u001b[0;31mTypeError\u001b[0m                                 Traceback (most recent call last)",
      "Input \u001b[0;32mIn [15]\u001b[0m, in \u001b[0;36m<cell line: 1>\u001b[0;34m()\u001b[0m\n\u001b[0;32m----> 1\u001b[0m \u001b[38;5;28;01mfor\u001b[39;00m i , j \u001b[38;5;129;01min\u001b[39;00m grouped\u001b[38;5;241m.\u001b[39mitems:\n\u001b[1;32m      2\u001b[0m     \u001b[38;5;28mprint\u001b[39m(i)\n",
      "\u001b[0;31mTypeError\u001b[0m: 'method' object is not iterable"
     ]
    }
   ],
   "source": [
    "for i , j in grouped.items:\n",
    "    print(i)"
   ]
  },
  {
   "cell_type": "code",
   "execution_count": null,
   "id": "39b18e32",
   "metadata": {},
   "outputs": [],
   "source": []
  }
 ],
 "metadata": {
  "kernelspec": {
   "display_name": "Python 3 (ipykernel)",
   "language": "python",
   "name": "python3"
  },
  "language_info": {
   "codemirror_mode": {
    "name": "ipython",
    "version": 3
   },
   "file_extension": ".py",
   "mimetype": "text/x-python",
   "name": "python",
   "nbconvert_exporter": "python",
   "pygments_lexer": "ipython3",
   "version": "3.9.12"
  }
 },
 "nbformat": 4,
 "nbformat_minor": 5
}
